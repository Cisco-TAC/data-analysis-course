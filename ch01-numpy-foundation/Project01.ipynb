{
  "nbformat": 4,
  "nbformat_minor": 0,
  "metadata": {
    "colab": {
      "name": "Project01.ipynb",
      "provenance": [],
      "collapsed_sections": [],
      "include_colab_link": true
    },
    "kernelspec": {
      "name": "python3",
      "display_name": "Python 3"
    },
    "language_info": {
      "name": "python"
    }
  },
  "cells": [
    {
      "cell_type": "markdown",
      "metadata": {
        "id": "view-in-github",
        "colab_type": "text"
      },
      "source": [
        "<a href=\"https://colab.research.google.com/github/Cisco-TAC/data-analysis-course/blob/main/ch01-numpy-foundation/Project01.ipynb\" target=\"_parent\"><img src=\"https://colab.research.google.com/assets/colab-badge.svg\" alt=\"Open In Colab\"/></a>"
      ]
    },
    {
      "cell_type": "code",
      "metadata": {
        "id": "gSeMj1MyWs3E"
      },
      "source": [
        "import numpy as np"
      ],
      "execution_count": 10,
      "outputs": []
    },
    {
      "cell_type": "markdown",
      "metadata": {
        "id": "UE9qGcMAAKkZ"
      },
      "source": [
        "### 0. 数据格式说明\n",
        "\n",
        "Python list `file_stats`中有多个tuple，每个tuple中有两个元素，第一个为文件名，第二个为对应的文件大小（字节）。"
      ]
    },
    {
      "cell_type": "code",
      "metadata": {
        "id": "fSoQmmJuWvdE"
      },
      "source": [
        "file_stats = [\n",
        "\t('./dominant.py', 2480),\n",
        "\t('./log.py', 417),\n",
        "\t('./main.py', 1692),\n",
        "\t('./task.py', 274),\n",
        "\t('./video.py', 2269),\n",
        "\t('./__init__.py', 0),\n",
        "\t('./workers/color_analyzer.py', 1334),\n",
        "\t('./workers/color_collector.py', 2891),\n",
        "\t('./workers/extractor.py', 1409),\n",
        "\t('./workers/frame_display.py', 832),\n",
        "\t('./workers/__init__.py', 249),\n",
        "]"
      ],
      "execution_count": 7,
      "outputs": []
    },
    {
      "cell_type": "code",
      "metadata": {
        "id": "0XQnrSF8y4s0"
      },
      "source": [
        "py_file_names = [ele[0] for ele in file_stats]\n",
        "py_file_sizes = [ele[1] for ele in file_stats]"
      ],
      "execution_count": 8,
      "outputs": []
    },
    {
      "cell_type": "markdown",
      "metadata": {
        "id": "unXlqxFA_O3E"
      },
      "source": [
        "### 1. 新建numpy数组\n",
        "\n",
        "* 从Python数据新建NumPy数组`file_names`和`file_sizes`，分别存储文件名和文件大小。\n",
        "* 每个数组的数据类型`dtype`分别是什么？"
      ]
    },
    {
      "cell_type": "code",
      "metadata": {
        "id": "1mOjVz53WzYW",
        "colab": {
          "base_uri": "https://localhost:8080/"
        },
        "outputId": "da84ee20-e3b5-4d2e-fb6c-73f521e22c64"
      },
      "source": [
        "file_names = np.array(py_file_names)\n",
        "file_sizes = np.array(py_file_sizes)\n",
        "print(file_names)\n",
        "print(file_sizes)"
      ],
      "execution_count": 14,
      "outputs": [
        {
          "output_type": "stream",
          "text": [
            "['./dominant.py' './log.py' './main.py' './task.py' './video.py'\n",
            " './__init__.py' './workers/color_analyzer.py'\n",
            " './workers/color_collector.py' './workers/extractor.py'\n",
            " './workers/frame_display.py' './workers/__init__.py']\n",
            "[2480  417 1692  274 2269    0 1334 2891 1409  832  249]\n"
          ],
          "name": "stdout"
        }
      ]
    },
    {
      "cell_type": "markdown",
      "metadata": {
        "id": "iY_tVJzrA-gI"
      },
      "source": [
        "### 2. 数组索引和切片\n",
        "\n",
        "* 找到`file_names`数组第0个和最后一个记录\n",
        "* 找到`file_names`数组中的前6个记录（0~6，不含6）\n",
        "* 将`file_names`数组逆序输出"
      ]
    },
    {
      "cell_type": "code",
      "metadata": {
        "colab": {
          "base_uri": "https://localhost:8080/"
        },
        "id": "oi-O0PdX0q-X",
        "outputId": "9af43d60-64e3-4689-dabd-4a249b12c6db"
      },
      "source": [
        "arr =np.array([\n",
        "               [1,2,3],\n",
        "               [4,5,6],\n",
        "])\n",
        "arr"
      ],
      "execution_count": 19,
      "outputs": [
        {
          "output_type": "execute_result",
          "data": {
            "text/plain": [
              "array([[1, 2, 3],\n",
              "       [4, 5, 6]])"
            ]
          },
          "metadata": {},
          "execution_count": 19
        }
      ]
    },
    {
      "cell_type": "code",
      "metadata": {
        "colab": {
          "base_uri": "https://localhost:8080/"
        },
        "id": "iqTjn0up1Gpk",
        "outputId": "8c6a830d-d3f6-4f9d-f69b-6108a5ef7889"
      },
      "source": [
        "arr[1,1]"
      ],
      "execution_count": 20,
      "outputs": [
        {
          "output_type": "execute_result",
          "data": {
            "text/plain": [
              "5"
            ]
          },
          "metadata": {},
          "execution_count": 20
        }
      ]
    },
    {
      "cell_type": "code",
      "metadata": {
        "colab": {
          "base_uri": "https://localhost:8080/"
        },
        "id": "E8FuxEtr1P5u",
        "outputId": "e505cfa3-b968-4536-b64e-4b59491ebe4e"
      },
      "source": [
        "arr[1]"
      ],
      "execution_count": 21,
      "outputs": [
        {
          "output_type": "execute_result",
          "data": {
            "text/plain": [
              "array([4, 5, 6])"
            ]
          },
          "metadata": {},
          "execution_count": 21
        }
      ]
    },
    {
      "cell_type": "code",
      "metadata": {
        "colab": {
          "base_uri": "https://localhost:8080/"
        },
        "id": "L7Ea7xMy1WrU",
        "outputId": "6908bf7f-dcce-4f08-c766-8b1f22b01ffe"
      },
      "source": [
        "arr[:,1]"
      ],
      "execution_count": 22,
      "outputs": [
        {
          "output_type": "execute_result",
          "data": {
            "text/plain": [
              "array([2, 5])"
            ]
          },
          "metadata": {},
          "execution_count": 22
        }
      ]
    },
    {
      "cell_type": "code",
      "metadata": {
        "colab": {
          "base_uri": "https://localhost:8080/"
        },
        "id": "OxCAD5XC2Bup",
        "outputId": "5dcf3283-6f06-4736-a94e-4fc615d94ff6"
      },
      "source": [
        "arr[:,1:3]"
      ],
      "execution_count": 24,
      "outputs": [
        {
          "output_type": "execute_result",
          "data": {
            "text/plain": [
              "array([[2, 3],\n",
              "       [5, 6]])"
            ]
          },
          "metadata": {},
          "execution_count": 24
        }
      ]
    },
    {
      "cell_type": "code",
      "metadata": {
        "colab": {
          "base_uri": "https://localhost:8080/",
          "height": 166
        },
        "id": "bW8_C_rg2ay5",
        "outputId": "93386213-804f-43a0-82af-636b5c237025"
      },
      "source": [
        ""
      ],
      "execution_count": 25,
      "outputs": [
        {
          "output_type": "error",
          "ename": "TypeError",
          "evalue": "ignored",
          "traceback": [
            "\u001b[0;31m---------------------------------------------------------------------------\u001b[0m",
            "\u001b[0;31mTypeError\u001b[0m                                 Traceback (most recent call last)",
            "\u001b[0;32m<ipython-input-25-904a92a171c3>\u001b[0m in \u001b[0;36m<module>\u001b[0;34m()\u001b[0m\n\u001b[0;32m----> 1\u001b[0;31m \u001b[0mlen\u001b[0m\u001b[0;34m(\u001b[0m\u001b[0;34m)\u001b[0m\u001b[0;34m==\u001b[0m\u001b[0;36m3\u001b[0m\u001b[0;34m\u001b[0m\u001b[0;34m\u001b[0m\u001b[0m\n\u001b[0m",
            "\u001b[0;31mTypeError\u001b[0m: len() takes exactly one argument (0 given)"
          ]
        }
      ]
    },
    {
      "cell_type": "code",
      "metadata": {
        "id": "1pWakf1tAeyd",
        "colab": {
          "base_uri": "https://localhost:8080/"
        },
        "outputId": "e1bb5ef9-509d-4009-dbd8-b3c4a3ebb17a"
      },
      "source": [
        "file_names[0:6:-1]\n",
        "print(file_names)"
      ],
      "execution_count": 23,
      "outputs": [
        {
          "output_type": "stream",
          "text": [
            "['./dominant.py' './log.py' './main.py' './task.py' './video.py'\n",
            " './__init__.py' './workers/color_analyzer.py'\n",
            " './workers/color_collector.py' './workers/extractor.py'\n",
            " './workers/frame_display.py' './workers/__init__.py']\n"
          ],
          "name": "stdout"
        }
      ]
    },
    {
      "cell_type": "markdown",
      "metadata": {
        "id": "qBYYZk-9BaFT"
      },
      "source": [
        "### 3. 直接排序\n",
        "\n",
        "* 占用空间最多的文件是多大？\n",
        "* 占用空间最小的三个文件分别是多大？"
      ]
    },
    {
      "cell_type": "code",
      "metadata": {
        "id": "-Sre48ssBalo"
      },
      "source": [
        ""
      ],
      "execution_count": null,
      "outputs": []
    },
    {
      "cell_type": "markdown",
      "metadata": {
        "id": "DOOzDLFjB1ah"
      },
      "source": [
        "### 4. 间接排序\n",
        "\n",
        "* 占用空间最多的文件是哪个？\n",
        "* 占用空间最小的三个文件分别是哪几个文件？\n",
        "* 按占用空间由大到小给文件名排序。"
      ]
    },
    {
      "cell_type": "code",
      "metadata": {
        "id": "G0SZDJOsCINh"
      },
      "source": [
        ""
      ],
      "execution_count": null,
      "outputs": []
    }
  ]
}